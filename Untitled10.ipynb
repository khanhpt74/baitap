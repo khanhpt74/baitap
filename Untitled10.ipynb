{
  "nbformat": 4,
  "nbformat_minor": 0,
  "metadata": {
    "colab": {
      "name": "Untitled10.ipynb",
      "provenance": [],
      "authorship_tag": "ABX9TyPVXAi/DZ8Jmt3l5czHXLt+",
      "include_colab_link": true
    },
    "kernelspec": {
      "name": "python3",
      "display_name": "Python 3"
    }
  },
  "cells": [
    {
      "cell_type": "markdown",
      "metadata": {
        "id": "view-in-github",
        "colab_type": "text"
      },
      "source": [
        "<a href=\"https://colab.research.google.com/github/khanhpt74/baitap/blob/main/Untitled10.ipynb\" target=\"_parent\"><img src=\"https://colab.research.google.com/assets/colab-badge.svg\" alt=\"Open In Colab\"/></a>"
      ]
    },
    {
      "cell_type": "code",
      "metadata": {
        "id": "ePrXrhGD1zno"
      },
      "source": [
        "import math\n",
        "n=int(input(\"nhap n= \"))\n",
        "i=0\n",
        "while i!= n:\n",
        "i = i + 1\n",
        "for i in range(n):\n",
        "print(str(n)) "
      ],
      "execution_count": null,
      "outputs": []
    }
  ]
}