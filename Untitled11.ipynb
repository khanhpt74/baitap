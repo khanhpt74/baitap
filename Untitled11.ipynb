{
  "nbformat": 4,
  "nbformat_minor": 0,
  "metadata": {
    "colab": {
      "name": "Untitled11.ipynb",
      "provenance": [],
      "authorship_tag": "ABX9TyP9z2ylZTTMsxLDziSL37I7",
      "include_colab_link": true
    },
    "kernelspec": {
      "name": "python3",
      "display_name": "Python 3"
    }
  },
  "cells": [
    {
      "cell_type": "markdown",
      "metadata": {
        "id": "view-in-github",
        "colab_type": "text"
      },
      "source": [
        "<a href=\"https://colab.research.google.com/github/khanhpt74/baitap/blob/main/Untitled11.ipynb\" target=\"_parent\"><img src=\"https://colab.research.google.com/assets/colab-badge.svg\" alt=\"Open In Colab\"/></a>"
      ]
    },
    {
      "cell_type": "code",
      "metadata": {
        "colab": {
          "base_uri": "https://localhost:8080/"
        },
        "id": "yY6VEQvPgJHE",
        "outputId": "43212599-cc29-4386-93ad-3032b3d59075"
      },
      "source": [
        " list2 = [({'name': 'Peter', 'age':2}, {'name': 'John', 'age':21}), \n",
        "         ({'name': 'Mary', 'age':2}, {'name': 'Trandanpro', 'age':21}), \n",
        "         ({'name': 'Nam', 'age':2}, {'name': 'Hung', 'age':21}), \n",
        "         ({'name': 'Mai', 'age':2}, {'name': 'Loan', 'age':21})]\n",
        "   \n",
        "for index, list in enumerate(list2, start=1):\n",
        "    print(f\"List2 #{index}: {list2}\")"
      ],
      "execution_count": 2,
      "outputs": [
        {
          "output_type": "stream",
          "text": [
            "List2 #1: [({'name': 'Peter', 'age': 2}, {'name': 'John', 'age': 21}), ({'name': 'Mary', 'age': 2}, {'name': 'Trandanpro', 'age': 21}), ({'name': 'Nam', 'age': 2}, {'name': 'Hung', 'age': 21}), ({'name': 'Mai', 'age': 2}, {'name': 'Loan', 'age': 21})]\n",
            "List2 #2: [({'name': 'Peter', 'age': 2}, {'name': 'John', 'age': 21}), ({'name': 'Mary', 'age': 2}, {'name': 'Trandanpro', 'age': 21}), ({'name': 'Nam', 'age': 2}, {'name': 'Hung', 'age': 21}), ({'name': 'Mai', 'age': 2}, {'name': 'Loan', 'age': 21})]\n",
            "List2 #3: [({'name': 'Peter', 'age': 2}, {'name': 'John', 'age': 21}), ({'name': 'Mary', 'age': 2}, {'name': 'Trandanpro', 'age': 21}), ({'name': 'Nam', 'age': 2}, {'name': 'Hung', 'age': 21}), ({'name': 'Mai', 'age': 2}, {'name': 'Loan', 'age': 21})]\n",
            "List2 #4: [({'name': 'Peter', 'age': 2}, {'name': 'John', 'age': 21}), ({'name': 'Mary', 'age': 2}, {'name': 'Trandanpro', 'age': 21}), ({'name': 'Nam', 'age': 2}, {'name': 'Hung', 'age': 21}), ({'name': 'Mai', 'age': 2}, {'name': 'Loan', 'age': 21})]\n"
          ],
          "name": "stdout"
        }
      ]
    }
  ]
}