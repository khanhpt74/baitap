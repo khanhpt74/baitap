{
  "nbformat": 4,
  "nbformat_minor": 0,
  "metadata": {
    "colab": {
      "name": "Untitled6.ipynb",
      "provenance": [],
      "collapsed_sections": [],
      "authorship_tag": "ABX9TyPvVAkqGRD0kXgs4x0qVSsU",
      "include_colab_link": true
    },
    "kernelspec": {
      "name": "python3",
      "display_name": "Python 3"
    }
  },
  "cells": [
    {
      "cell_type": "markdown",
      "metadata": {
        "id": "view-in-github",
        "colab_type": "text"
      },
      "source": [
        "<a href=\"https://colab.research.google.com/github/khanhpt74/baitap/blob/main/Untitled6.ipynb\" target=\"_parent\"><img src=\"https://colab.research.google.com/assets/colab-badge.svg\" alt=\"Open In Colab\"/></a>"
      ]
    },
    {
      "cell_type": "code",
      "metadata": {
        "colab": {
          "base_uri": "https://localhost:8080/",
          "height": 129
        },
        "id": "RU7s5sDLl1-l",
        "outputId": "0d1e2f16-fafe-49fc-8c6b-376b0d6980de"
      },
      "source": [
        " "
      ],
      "execution_count": 8,
      "outputs": [
        {
          "output_type": "error",
          "ename": "IndentationError",
          "evalue": "ignored",
          "traceback": [
            "\u001b[0;36m  File \u001b[0;32m\"<ipython-input-8-9df44478ad44>\"\u001b[0;36m, line \u001b[0;32m12\u001b[0m\n\u001b[0;31m    max=list[i]\u001b[0m\n\u001b[0m               ^\u001b[0m\n\u001b[0;31mIndentationError\u001b[0m\u001b[0;31m:\u001b[0m unindent does not match any outer indentation level\n"
          ]
        }
      ]
    },
    {
      "cell_type": "code",
      "metadata": {
        "colab": {
          "base_uri": "https://localhost:8080/"
        },
        "id": "qgMLIbsImmWX",
        "outputId": "1e5ff41b-ff88-4291-8a95-8b9e3e718f6d"
      },
      "source": [
        "import random\n",
        "n=int(input(\"nhap n=\"))\n",
        "list=[]\n",
        "for i in range(n):\n",
        "  x=random.random()\n",
        "  list.append(x)\n",
        "print(list)\n",
        "min=list[0]\n",
        "i=1\n",
        "while i<n:\n",
        "  if min>list[i]:\n",
        "    min=list[i]\n",
        "  i=i+1\n",
        "print(\"gia tri nho nhat la \",max)"
      ],
      "execution_count": 7,
      "outputs": [
        {
          "output_type": "stream",
          "text": [
            "nhap n=2\n",
            "[0.8710344790598814, 0.13802652834088114]\n",
            "gia tri nho nhat la  0.6878783858030284\n"
          ],
          "name": "stdout"
        }
      ]
    }
  ]
}