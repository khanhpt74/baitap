{
  "nbformat": 4,
  "nbformat_minor": 0,
  "metadata": {
    "colab": {
      "name": "Untitled7.ipynb",
      "provenance": [],
      "collapsed_sections": [],
      "authorship_tag": "ABX9TyMgQx7Zw1LSVM3D0AofervJ",
      "include_colab_link": true
    },
    "kernelspec": {
      "name": "python3",
      "display_name": "Python 3"
    }
  },
  "cells": [
    {
      "cell_type": "markdown",
      "metadata": {
        "id": "view-in-github",
        "colab_type": "text"
      },
      "source": [
        "<a href=\"https://colab.research.google.com/github/khanhpt74/baitap/blob/main/Untitled7.ipynb\" target=\"_parent\"><img src=\"https://colab.research.google.com/assets/colab-badge.svg\" alt=\"Open In Colab\"/></a>"
      ]
    },
    {
      "cell_type": "code",
      "metadata": {
        "colab": {
          "base_uri": "https://localhost:8080/"
        },
        "id": "e2MQ8ZWrqt6U",
        "outputId": "c56c97ba-7ab2-40be-f9df-5d24ae6955d8"
      },
      "source": [
        " import random\n",
        "n=int(input(\"nhap n=\"))\n",
        "list=[]\n",
        "for i in range(n):\n",
        "  x=random.random()\n",
        "  list.append(x)\n",
        "print(list)\n",
        "max=list[0]\n",
        "i=1\n",
        "while i<n:\n",
        "  if max<list[i]:\n",
        "    max=list[i]\n",
        "  i=i+1\n",
        "print(\"gia lon nhat nhat la \",max)\n"
      ],
      "execution_count": 1,
      "outputs": [
        {
          "output_type": "stream",
          "text": [
            "nhap n=4\n",
            "[0.3614099687063539, 0.2875917461608085, 0.25065052302896207, 0.6067014248239352]\n",
            "gia lon nhat nhat la  0.6067014248239352\n"
          ],
          "name": "stdout"
        }
      ]
    }
  ]
}