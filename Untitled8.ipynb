{
  "nbformat": 4,
  "nbformat_minor": 0,
  "metadata": {
    "colab": {
      "name": "Untitled8.ipynb",
      "provenance": [],
      "authorship_tag": "ABX9TyPAPhshB72mSaqT2zREFFEC",
      "include_colab_link": true
    },
    "kernelspec": {
      "name": "python3",
      "display_name": "Python 3"
    }
  },
  "cells": [
    {
      "cell_type": "markdown",
      "metadata": {
        "id": "view-in-github",
        "colab_type": "text"
      },
      "source": [
        "<a href=\"https://colab.research.google.com/github/khanhpt74/baitap/blob/main/Untitled8.ipynb\" target=\"_parent\"><img src=\"https://colab.research.google.com/assets/colab-badge.svg\" alt=\"Open In Colab\"/></a>"
      ]
    },
    {
      "cell_type": "code",
      "metadata": {
        "colab": {
          "base_uri": "https://localhost:8080/"
        },
        "id": "iM1ndd-ow0vZ",
        "outputId": "2d28d973-5aa5-4f48-a473-deb41563ad14"
      },
      "source": [
        "a = [1,2,3,4,5,6,7,8,9]\n",
        "for x in a:\n",
        "    print(x)\n"
      ],
      "execution_count": 1,
      "outputs": [
        {
          "output_type": "stream",
          "text": [
            "1\n",
            "2\n",
            "3\n",
            "4\n",
            "5\n",
            "6\n",
            "7\n",
            "8\n",
            "9\n"
          ],
          "name": "stdout"
        }
      ]
    },
    {
      "cell_type": "code",
      "metadata": {
        "id": "M4bDJaFhxEch"
      },
      "source": [
        "import math\n",
        "bien=[2,4,18,23,27,-1,0]\n",
        "for x in bien:\n",
        "    if x>0:\n",
        "     print(math.log(x))   \n"
      ],
      "execution_count": null,
      "outputs": []
    }
  ]
}